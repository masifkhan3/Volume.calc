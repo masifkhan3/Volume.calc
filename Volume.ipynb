{
  "nbformat": 4,
  "nbformat_minor": 0,
  "metadata": {
    "colab": {
      "provenance": [],
      "gpuType": "T4",
      "authorship_tag": "ABX9TyMqO3+CacEFhLx6pEdfqHO1",
      "include_colab_link": true
    },
    "kernelspec": {
      "name": "python3",
      "display_name": "Python 3"
    },
    "language_info": {
      "name": "python"
    },
    "accelerator": "GPU"
  },
  "cells": [
    {
      "cell_type": "markdown",
      "metadata": {
        "id": "view-in-github",
        "colab_type": "text"
      },
      "source": [
        "<a href=\"https://colab.research.google.com/github/masifkhan3/Volume.calc/blob/main/Volume.ipynb\" target=\"_parent\"><img src=\"https://colab.research.google.com/assets/colab-badge.svg\" alt=\"Open In Colab\"/></a>"
      ]
    },
    {
      "cell_type": "code",
      "source": [
        "import math\n",
        "\n",
        "def calculate_volume(shape, dimensions):\n",
        "    \"\"\"\n",
        "    Calculate the volume of a given shape based on its dimensions.\n",
        "\n",
        "    Parameters:\n",
        "    shape (str): The shape of the vessel ('cylinder', 'cone', 'sphere', 'rectangular_prism').\n",
        "    dimensions (dict): A dictionary containing dimensions of the shape.\n",
        "\n",
        "    Returns:\n",
        "    float: The volume of the shape, or an error message if the shape is not recognized.\n",
        "    \"\"\"\n",
        "    if shape == 'cylinder':\n",
        "        r = dimensions['radius']\n",
        "        h = dimensions['height']\n",
        "        volume = math.pi * (r ** 2) * h\n",
        "\n",
        "    elif shape == 'cone':\n",
        "        r = dimensions['radius']\n",
        "        h = dimensions['height']\n",
        "        volume = (1/3) * math.pi * (r ** 2) * h\n",
        "\n",
        "    elif shape == 'sphere':\n",
        "        r = dimensions['radius']\n",
        "        volume = (4/3) * math.pi * (r ** 3)\n",
        "\n",
        "    elif shape == 'rectangular_prism':\n",
        "        l = dimensions['length']\n",
        "        w = dimensions['width']\n",
        "        h = dimensions['height']\n",
        "        volume = l * w * h\n",
        "\n",
        "    else:\n",
        "        return \"Shape not recognized.\"\n",
        "\n",
        "    return volume\n",
        "\n",
        "def get_positive_float(prompt):\n",
        "    \"\"\"Get a positive float from user input.\"\"\"\n",
        "    while True:\n",
        "        try:\n",
        "            value = float(input(prompt))\n",
        "            if value > 0:\n",
        "                return value\n",
        "            else:\n",
        "                print(\"Please enter a positive number.\")\n",
        "        except ValueError:\n",
        "            print(\"Invalid input. Please enter a number.\")\n",
        "\n",
        "def main():\n",
        "    print(\"Volume Calculator for Various Vessel Shapes\")\n",
        "    print(\"Available shapes: \")\n",
        "    print(\"1. Cylinder\")\n",
        "    print(\"2. Cone\")\n",
        "    print(\"3. Sphere\")\n",
        "    print(\"4. Rectangular Prism\")\n",
        "    print(\"Please select a shape by entering the corresponding number:\")\n",
        "\n",
        "    shape_options = {\n",
        "        '1': 'cylinder',\n",
        "        '2': 'cone',\n",
        "        '3': 'sphere',\n",
        "        '4': 'rectangular_prism'\n",
        "    }\n",
        "\n",
        "    shape_choice = input(\"Enter your choice (1-4): \").strip()\n",
        "\n",
        "    if shape_choice not in shape_options:\n",
        "        print(\"Error: Invalid choice. Please run the program again.\")\n",
        "        return\n",
        "\n",
        "    shape = shape_options[shape_choice]\n",
        "    dimensions = {}\n",
        "\n",
        "    if shape in ['cylinder', 'cone']:\n",
        "        dimensions['radius'] = get_positive_float(\"Enter the radius: \")\n",
        "        dimensions['height'] = get_positive_float(\"Enter the height: \")\n",
        "\n",
        "    elif shape == 'sphere':\n",
        "        dimensions['radius'] = get_positive_float(\"Enter the radius: \")\n",
        "\n",
        "    elif shape == 'rectangular_prism':\n",
        "        dimensions['length'] = get_positive_float(\"Enter the length: \")\n",
        "        dimensions['width'] = get_positive_float(\"Enter the width: \")\n",
        "        dimensions['height'] = get_positive_float(\"Enter the height: \")\n",
        "\n",
        "    volume = calculate_volume(shape, dimensions)\n",
        "    if isinstance(volume, str):\n",
        "        print(volume)  # Print error message if shape is not recognized\n",
        "    else:\n",
        "        print(f\"The volume of the {shape} is: {volume:.2f} cubic units\")\n",
        "\n",
        "    print(\"Thank you for using the Volume Calculator! Have a great day!\")\n",
        "\n",
        "if __name__ == \"__main__\":\n",
        "    main()\n"
      ],
      "metadata": {
        "id": "hm_51J_Aabxd",
        "colab": {
          "base_uri": "https://localhost:8080/"
        },
        "outputId": "22e41b2d-8426-4e1b-f1aa-e8b2a8459c54"
      },
      "execution_count": 9,
      "outputs": [
        {
          "output_type": "stream",
          "name": "stdout",
          "text": [
            "Volume Calculator for Various Vessel Shapes\n",
            "Available shapes: \n",
            "1. Cylinder\n",
            "2. Cone\n",
            "3. Sphere\n",
            "4. Rectangular Prism\n",
            "Please select a shape by entering the corresponding number:\n",
            "Enter your choice (1-4): 1\n",
            "Enter the radius: 5\n",
            "Enter the height: 5\n",
            "The volume of the cylinder is: 392.70 cubic units\n",
            "Thank you for using the Volume Calculator! Have a great day!\n"
          ]
        }
      ]
    }
  ]
}